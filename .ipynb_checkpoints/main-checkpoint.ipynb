{
 "cells": [
  {
   "cell_type": "code",
   "execution_count": 1,
   "id": "6a4c70dd-8178-463d-b294-8656517e4902",
   "metadata": {},
   "outputs": [],
   "source": [
    "import pandas as pd\n",
    "import numpy as np\n",
    "import matplotlib.pyplot as plt\n",
    "import seaborn as asb\n",
    "\n",
    "from sklearn.model_selection import train_test_split\n",
    "from sklearn.preprocessing import StandardScaler\n",
    "from sklearn.linear_model import LogisticRegression\n",
    "from sklearn.svm import SVC\n",
    "from xgboost import XGBClassifier\n",
    "from sklearn import metrics\n",
    "\n",
    "import warnings\n",
    "warnings.filterwarnings('ignore')"
   ]
  },
  {
   "cell_type": "code",
   "execution_count": 3,
   "id": "cfe33d32-4473-4987-abba-42ab837779f8",
   "metadata": {},
   "outputs": [
    {
     "data": {
      "text/html": [
       "<div>\n",
       "<style scoped>\n",
       "    .dataframe tbody tr th:only-of-type {\n",
       "        vertical-align: middle;\n",
       "    }\n",
       "\n",
       "    .dataframe tbody tr th {\n",
       "        vertical-align: top;\n",
       "    }\n",
       "\n",
       "    .dataframe thead th {\n",
       "        text-align: right;\n",
       "    }\n",
       "</style>\n",
       "<table border=\"1\" class=\"dataframe\">\n",
       "  <thead>\n",
       "    <tr style=\"text-align: right;\">\n",
       "      <th></th>\n",
       "      <th>snapped_at</th>\n",
       "      <th>price</th>\n",
       "      <th>market_cap</th>\n",
       "      <th>total_volume</th>\n",
       "    </tr>\n",
       "  </thead>\n",
       "  <tbody>\n",
       "    <tr>\n",
       "      <th>0</th>\n",
       "      <td>2020-04-11 00:00:00 UTC</td>\n",
       "      <td>0.957606</td>\n",
       "      <td>7.827652e+06</td>\n",
       "      <td>9.267267e+07</td>\n",
       "    </tr>\n",
       "    <tr>\n",
       "      <th>1</th>\n",
       "      <td>2020-04-12 00:00:00 UTC</td>\n",
       "      <td>0.784711</td>\n",
       "      <td>6.173608e+06</td>\n",
       "      <td>4.945869e+07</td>\n",
       "    </tr>\n",
       "    <tr>\n",
       "      <th>2</th>\n",
       "      <td>2020-04-13 00:00:00 UTC</td>\n",
       "      <td>0.875994</td>\n",
       "      <td>7.269680e+06</td>\n",
       "      <td>3.782101e+07</td>\n",
       "    </tr>\n",
       "    <tr>\n",
       "      <th>3</th>\n",
       "      <td>2020-04-14 00:00:00 UTC</td>\n",
       "      <td>0.786712</td>\n",
       "      <td>6.302364e+06</td>\n",
       "      <td>1.957921e+07</td>\n",
       "    </tr>\n",
       "    <tr>\n",
       "      <th>4</th>\n",
       "      <td>2020-04-15 00:00:00 UTC</td>\n",
       "      <td>0.666673</td>\n",
       "      <td>5.306221e+06</td>\n",
       "      <td>1.752353e+07</td>\n",
       "    </tr>\n",
       "  </tbody>\n",
       "</table>\n",
       "</div>"
      ],
      "text/plain": [
       "                snapped_at     price    market_cap  total_volume\n",
       "0  2020-04-11 00:00:00 UTC  0.957606  7.827652e+06  9.267267e+07\n",
       "1  2020-04-12 00:00:00 UTC  0.784711  6.173608e+06  4.945869e+07\n",
       "2  2020-04-13 00:00:00 UTC  0.875994  7.269680e+06  3.782101e+07\n",
       "3  2020-04-14 00:00:00 UTC  0.786712  6.302364e+06  1.957921e+07\n",
       "4  2020-04-15 00:00:00 UTC  0.666673  5.306221e+06  1.752353e+07"
      ]
     },
     "execution_count": 3,
     "metadata": {},
     "output_type": "execute_result"
    }
   ],
   "source": [
    "df = pd.read_csv('sol-usd-max.csv')\n",
    "df.head()"
   ]
  },
  {
   "cell_type": "code",
   "execution_count": 5,
   "id": "80daedc8-2e6c-49cf-b8e2-805d9f259894",
   "metadata": {},
   "outputs": [
    {
     "data": {
      "text/plain": [
       "(1569, 4)"
      ]
     },
     "execution_count": 5,
     "metadata": {},
     "output_type": "execute_result"
    }
   ],
   "source": [
    "df.shape"
   ]
  },
  {
   "cell_type": "code",
   "execution_count": 7,
   "id": "132758d9-a815-4c13-adf1-11cf226d98ac",
   "metadata": {},
   "outputs": [
    {
     "data": {
      "text/html": [
       "<div>\n",
       "<style scoped>\n",
       "    .dataframe tbody tr th:only-of-type {\n",
       "        vertical-align: middle;\n",
       "    }\n",
       "\n",
       "    .dataframe tbody tr th {\n",
       "        vertical-align: top;\n",
       "    }\n",
       "\n",
       "    .dataframe thead th {\n",
       "        text-align: right;\n",
       "    }\n",
       "</style>\n",
       "<table border=\"1\" class=\"dataframe\">\n",
       "  <thead>\n",
       "    <tr style=\"text-align: right;\">\n",
       "      <th></th>\n",
       "      <th>price</th>\n",
       "      <th>market_cap</th>\n",
       "      <th>total_volume</th>\n",
       "    </tr>\n",
       "  </thead>\n",
       "  <tbody>\n",
       "    <tr>\n",
       "      <th>count</th>\n",
       "      <td>1569.000000</td>\n",
       "      <td>1.569000e+03</td>\n",
       "      <td>1.569000e+03</td>\n",
       "    </tr>\n",
       "    <tr>\n",
       "      <th>mean</th>\n",
       "      <td>57.945791</td>\n",
       "      <td>2.115858e+10</td>\n",
       "      <td>1.353896e+09</td>\n",
       "    </tr>\n",
       "    <tr>\n",
       "      <th>std</th>\n",
       "      <td>60.912219</td>\n",
       "      <td>2.327658e+10</td>\n",
       "      <td>1.669761e+09</td>\n",
       "    </tr>\n",
       "    <tr>\n",
       "      <th>min</th>\n",
       "      <td>0.513923</td>\n",
       "      <td>4.171226e+06</td>\n",
       "      <td>5.489101e+05</td>\n",
       "    </tr>\n",
       "    <tr>\n",
       "      <th>25%</th>\n",
       "      <td>14.306230</td>\n",
       "      <td>5.000691e+09</td>\n",
       "      <td>2.363849e+08</td>\n",
       "    </tr>\n",
       "    <tr>\n",
       "      <th>50%</th>\n",
       "      <td>31.416576</td>\n",
       "      <td>1.022716e+10</td>\n",
       "      <td>7.828483e+08</td>\n",
       "    </tr>\n",
       "    <tr>\n",
       "      <th>75%</th>\n",
       "      <td>97.658742</td>\n",
       "      <td>3.381218e+10</td>\n",
       "      <td>1.965476e+09</td>\n",
       "    </tr>\n",
       "    <tr>\n",
       "      <th>max</th>\n",
       "      <td>259.239558</td>\n",
       "      <td>9.010785e+10</td>\n",
       "      <td>1.614909e+10</td>\n",
       "    </tr>\n",
       "  </tbody>\n",
       "</table>\n",
       "</div>"
      ],
      "text/plain": [
       "             price    market_cap  total_volume\n",
       "count  1569.000000  1.569000e+03  1.569000e+03\n",
       "mean     57.945791  2.115858e+10  1.353896e+09\n",
       "std      60.912219  2.327658e+10  1.669761e+09\n",
       "min       0.513923  4.171226e+06  5.489101e+05\n",
       "25%      14.306230  5.000691e+09  2.363849e+08\n",
       "50%      31.416576  1.022716e+10  7.828483e+08\n",
       "75%      97.658742  3.381218e+10  1.965476e+09\n",
       "max     259.239558  9.010785e+10  1.614909e+10"
      ]
     },
     "execution_count": 7,
     "metadata": {},
     "output_type": "execute_result"
    }
   ],
   "source": [
    "df.describe()"
   ]
  },
  {
   "cell_type": "code",
   "execution_count": 9,
   "id": "25b05216-a8d6-4d58-9d69-0aaf6eda3544",
   "metadata": {},
   "outputs": [
    {
     "name": "stdout",
     "output_type": "stream",
     "text": [
      "<class 'pandas.core.frame.DataFrame'>\n",
      "RangeIndex: 1569 entries, 0 to 1568\n",
      "Data columns (total 4 columns):\n",
      " #   Column        Non-Null Count  Dtype  \n",
      "---  ------        --------------  -----  \n",
      " 0   snapped_at    1569 non-null   object \n",
      " 1   price         1569 non-null   float64\n",
      " 2   market_cap    1569 non-null   float64\n",
      " 3   total_volume  1569 non-null   float64\n",
      "dtypes: float64(3), object(1)\n",
      "memory usage: 49.2+ KB\n"
     ]
    }
   ],
   "source": [
    "df.info()"
   ]
  }
 ],
 "metadata": {
  "kernelspec": {
   "display_name": "Python 3 (ipykernel)",
   "language": "python",
   "name": "python3"
  },
  "language_info": {
   "codemirror_mode": {
    "name": "ipython",
    "version": 3
   },
   "file_extension": ".py",
   "mimetype": "text/x-python",
   "name": "python",
   "nbconvert_exporter": "python",
   "pygments_lexer": "ipython3",
   "version": "3.12.4"
  }
 },
 "nbformat": 4,
 "nbformat_minor": 5
}
